{
 "nbformat": 4,
 "nbformat_minor": 0,
 "metadata": {
  "colab": {
   "name": "RF Regressor.ipynb",
   "provenance": [],
   "collapsed_sections": [],
   "mount_file_id": "1WgW_LnAea1Qfk3AiBbpA39hqBFt7nVAY",
   "authorship_tag": "ABX9TyOgJuDBInzEcOxqZwvdhuSa",
   "include_colab_link": true
  },
  "kernelspec": {
   "name": "python3",
   "display_name": "Python 3"
  },
  "language_info": {
   "name": "python"
  }
 },
 "cells": [
  {
   "cell_type": "markdown",
   "metadata": {
    "id": "view-in-github",
    "colab_type": "text"
   },
   "source": [
    "<a href=\"https://colab.research.google.com/github/fernandofsilva/desafio-alelo/blob/main/notebooks/RF_Regressor.ipynb\" target=\"_parent\"><img src=\"https://colab.research.google.com/assets/colab-badge.svg\" alt=\"Open In Colab\"/></a>"
   ]
  },
  {
   "cell_type": "markdown",
   "metadata": {
    "id": "90-D8OrQodgb"
   },
   "source": [
    "# Random Forest Classifier"
   ]
  },
  {
   "cell_type": "markdown",
   "metadata": {
    "id": "tUkAEzK1ojSo"
   },
   "source": [
    "## Setup"
   ]
  },
  {
   "cell_type": "code",
   "metadata": {
    "id": "lgl4aFTcn-aE"
   },
   "source": [
    "# Data handling\n",
    "import pandas as pd\n",
    "\n",
    "# Modules for feature engineering and modelling\n",
    "from sklearn.base import BaseEstimator, TransformerMixin\n",
    "from sklearn.preprocessing import OneHotEncoder, StandardScaler\n",
    "from sklearn.impute import SimpleImputer\n",
    "from sklearn.decomposition import PCA\n",
    "from sklearn.pipeline import Pipeline, FeatureUnion\n",
    "from sklearn.model_selection import cross_val_predict\n",
    "from sklearn.metrics import plot_confusion_matrix, r2_score, mean_squared_error, mean_absolute_error\n",
    "from sklearn.ensemble import RandomForestRegressor\n",
    "from math import sqrt"
   ],
   "execution_count": null,
   "outputs": []
  },
  {
   "cell_type": "markdown",
   "metadata": {
    "id": "gi3Pvhlxommi"
   },
   "source": [
    "## Load data and merge"
   ]
  },
  {
   "cell_type": "code",
   "metadata": {
    "id": "Yt_KohDjooLo"
   },
   "source": [
    "# Characters powers\n",
    "powers = pd.read_csv(\"drive/MyDrive/Datasets/super_hero_powers.csv\")\n",
    "\n",
    "# Characters information\n",
    "info = pd.read_csv(\n",
    "    \"drive/MyDrive/Datasets/heroes_information.csv\",\n",
    "    index_col=0, \n",
    "    na_values=['-', -99.0]\n",
    ")\n",
    "\n",
    "# Merge databases\n",
    "data = info.merge(right=powers, how='inner', left_on='name', right_on='hero_names')\n",
    "data.drop('hero_names', axis=1, inplace=True)\n",
    "\n",
    "# Removed characters without weight\n",
    "data = data[data['Weight'].notnull()]"
   ],
   "execution_count": null,
   "outputs": []
  },
  {
   "cell_type": "markdown",
   "metadata": {
    "id": "Snuf1EMlop0v"
   },
   "source": [
    "## Feature Engineering"
   ]
  },
  {
   "cell_type": "markdown",
   "metadata": {
    "id": "BMaraQLOovlt"
   },
   "source": [
    "### Class for variable selection"
   ]
  },
  {
   "cell_type": "code",
   "metadata": {
    "id": "kLyopmv9otTz"
   },
   "source": [
    "class ColumnSelector(BaseEstimator, TransformerMixin):\n",
    "    def __init__(self, columns):\n",
    "        self.columns = columns\n",
    "        \n",
    "    def fit(self, X, y=None):\n",
    "        return self\n",
    "    \n",
    "    def transform(self, X):\n",
    "        return X[self.columns]"
   ],
   "execution_count": null,
   "outputs": []
  },
  {
   "cell_type": "markdown",
   "metadata": {
    "id": "kCCpg3fEpqLn"
   },
   "source": [
    "### Define columns according to each"
   ]
  },
  {
   "cell_type": "code",
   "metadata": {
    "id": "HrUR0je7prxj"
   },
   "source": [
    "# Categorical columns name\n",
    "categorical = list(info.select_dtypes('object').columns)[1:]\n",
    "\n",
    "# Numeric columns name\n",
    "numerical = list(info.select_dtypes('number').columns)\n",
    "numerical.remove('Weight')\n",
    "\n",
    "# Boolean columns name\n",
    "boolean = list(powers.select_dtypes('bool').columns)"
   ],
   "execution_count": null,
   "outputs": []
  },
  {
   "cell_type": "markdown",
   "metadata": {
    "id": "XOD7HoEPptje"
   },
   "source": [
    "### Construct feature engineering graph"
   ]
  },
  {
   "cell_type": "code",
   "metadata": {
    "id": "5NoUpjFZpvGz"
   },
   "source": [
    "# Define categorical pipeline\n",
    "cat_pipe = Pipeline(\n",
    "    [('selector', ColumnSelector(categorical)),\n",
    "     ('imputer', SimpleImputer(strategy='constant', fill_value='missing')),\n",
    "     ('encoder', OneHotEncoder(handle_unknown='ignore', sparse=False))])\n",
    "\n",
    "# Define numerical pipeline\n",
    "num_pipe = Pipeline(\n",
    "    [('selector', ColumnSelector(numerical)),\n",
    "     ('imputer', SimpleImputer(strategy='median')),\n",
    "     ('scaler', StandardScaler())])\n",
    "\n",
    "# Define boolean pipeline\n",
    "bool_pipe = Pipeline(\n",
    "    [('selector', ColumnSelector(boolean)),\n",
    "     ('pca', PCA(n_components=0.95))])\n",
    "\n",
    "# Fit column transformer to training data\n",
    "preprocessor = FeatureUnion(\n",
    "    [('categorical', cat_pipe),\n",
    "     ('numerical', num_pipe),\n",
    "     ('boolean', bool_pipe)])"
   ],
   "execution_count": null,
   "outputs": []
  },
  {
   "cell_type": "markdown",
   "metadata": {
    "id": "-34x4wINpxFz"
   },
   "source": [
    "### Transform the target\n",
    "\n",
    "Unfornately, Sklearn pipeline doen't have support to add a transformation in the target variable like the ReshapeEndpoint in Tensorflow."
   ]
  },
  {
   "cell_type": "code",
   "metadata": {
    "id": "FUZGTuJRpyvL"
   },
   "source": [
    "# Format the target variable\n",
    "y = data['Weight']"
   ],
   "execution_count": null,
   "outputs": []
  },
  {
   "cell_type": "markdown",
   "metadata": {
    "id": "XVVnnMtWp00F"
   },
   "source": [
    "## Model"
   ]
  },
  {
   "cell_type": "code",
   "metadata": {
    "id": "gz3z8EFlp2MU"
   },
   "source": [
    "# Combine categorical and numerical pipeline with the model\n",
    "model = Pipeline([\n",
    "    ('preprocessor', preprocessor),\n",
    "    ('model', RandomForestRegressor(min_samples_leaf=2))\n",
    "])"
   ],
   "execution_count": null,
   "outputs": []
  },
  {
   "cell_type": "markdown",
   "metadata": {
    "id": "mMvJT7XRp5fX"
   },
   "source": [
    "### Fit and predict\n",
    "\n",
    "The function cross_val_predict already has stratify the target variable, in other words, the function balance the target variable between the Kfolds."
   ]
  },
  {
   "cell_type": "code",
   "metadata": {
    "id": "lGzL9WZ7p59I"
   },
   "source": [
    "model.fit(data, y)\n",
    "y_pred = cross_val_predict(model, data, y, cv=10)"
   ],
   "execution_count": null,
   "outputs": []
  },
  {
   "cell_type": "markdown",
   "metadata": {
    "id": "xweYZarxp8GT"
   },
   "source": [
    "## Metrics"
   ]
  },
  {
   "cell_type": "markdown",
   "metadata": {
    "id": "aqZvqRgYtkU5"
   },
   "source": [
    "### R Square"
   ]
  },
  {
   "cell_type": "code",
   "metadata": {
    "colab": {
     "base_uri": "https://localhost:8080/"
    },
    "id": "ev6Uwy4luuDn",
    "outputId": "877cb856-84df-4080-c7c9-330bb6e27937"
   },
   "source": [
    "print(f'R Square: {r2_score(y, y_pred):.4f}')"
   ],
   "execution_count": null,
   "outputs": [
    {
     "output_type": "stream",
     "text": [
      "R Square: 0.2725\n"
     ],
     "name": "stdout"
    }
   ]
  },
  {
   "cell_type": "markdown",
   "metadata": {
    "id": "vwd6oXYJtmsA"
   },
   "source": [
    "### Root Mean Square Error(RMSE)"
   ]
  },
  {
   "cell_type": "code",
   "metadata": {
    "colab": {
     "base_uri": "https://localhost:8080/"
    },
    "id": "dCcS75rouuyU",
    "outputId": "5ec92f14-9124-497e-ae18-91ab0ac5a183"
   },
   "source": [
    "print(f'RMSE: {sqrt(mean_squared_error(y, y_pred)):.2f}')"
   ],
   "execution_count": null,
   "outputs": [
    {
     "output_type": "stream",
     "text": [
      "RMSE: 90.74\n"
     ],
     "name": "stdout"
    }
   ]
  },
  {
   "cell_type": "markdown",
   "metadata": {
    "id": "KOikHhIitsLc"
   },
   "source": [
    "### Mean Absolute Error(MAE)"
   ]
  },
  {
   "cell_type": "code",
   "metadata": {
    "colab": {
     "base_uri": "https://localhost:8080/"
    },
    "id": "ZxRFundpuvS3",
    "outputId": "200e52d9-6483-44d4-b35d-58f218a6c015"
   },
   "source": [
    "print(f'MAE: {mean_absolute_error(y, y_pred):.2f}')"
   ],
   "execution_count": null,
   "outputs": [
    {
     "output_type": "stream",
     "text": [
      "MAE: 41.41\n"
     ],
     "name": "stdout"
    }
   ]
  }
 ]
}