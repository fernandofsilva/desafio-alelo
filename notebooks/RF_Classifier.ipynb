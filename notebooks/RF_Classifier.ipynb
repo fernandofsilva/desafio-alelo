{
 "nbformat": 4,
 "nbformat_minor": 0,
 "metadata": {
  "colab": {
   "name": "RF Classifier.ipynb",
   "provenance": [],
   "collapsed_sections": [],
   "mount_file_id": "17VSHp5JT4Tr8KkCMzMyYc4sVQRMv7eVd",
   "authorship_tag": "ABX9TyOJsMD+oUbDPwvLiVI3ztzP",
   "include_colab_link": true
  },
  "kernelspec": {
   "name": "python3",
   "display_name": "Python 3"
  },
  "language_info": {
   "name": "python"
  }
 },
 "cells": [
  {
   "cell_type": "markdown",
   "metadata": {
    "id": "view-in-github",
    "colab_type": "text"
   },
   "source": [
    "<a href=\"https://colab.research.google.com/github/fernandofsilva/desafio-alelo/blob/main/notebooks/RF_Classifier.ipynb\" target=\"_parent\"><img src=\"https://colab.research.google.com/assets/colab-badge.svg\" alt=\"Open In Colab\"/></a>"
   ]
  },
  {
   "cell_type": "markdown",
   "metadata": {
    "id": "UD0Eho82g9Ky"
   },
   "source": [
    "# Random Forest Classifier"
   ]
  },
  {
   "cell_type": "markdown",
   "metadata": {
    "id": "stgsIWJwhEs8"
   },
   "source": [
    "## Setup"
   ]
  },
  {
   "cell_type": "code",
   "metadata": {
    "id": "HUGnAJJCz2SV"
   },
   "source": [
    "# Data handling\n",
    "import pandas as pd\n",
    "\n",
    "# Modules for feature engineering and modelling\n",
    "from sklearn.base import BaseEstimator, TransformerMixin\n",
    "from sklearn.preprocessing import OneHotEncoder, StandardScaler\n",
    "from sklearn.impute import SimpleImputer\n",
    "from sklearn.decomposition import PCA\n",
    "from sklearn.pipeline import Pipeline, FeatureUnion\n",
    "from sklearn.model_selection import cross_val_predict\n",
    "from sklearn.metrics import plot_confusion_matrix\n",
    "from sklearn.ensemble import RandomForestClassifier\n",
    "\n",
    "# Plot\n",
    "import matplotlib.pyplot as plt\n",
    "plt.style.use('ggplot')"
   ],
   "execution_count": null,
   "outputs": []
  },
  {
   "cell_type": "markdown",
   "metadata": {
    "id": "eJ6UTi7YhGYw"
   },
   "source": [
    "## Load data and merge"
   ]
  },
  {
   "cell_type": "code",
   "metadata": {
    "id": "-S9e-jn-0wwL"
   },
   "source": [
    "# Characters powers\n",
    "powers = pd.read_csv(\"drive/MyDrive/Datasets/super_hero_powers.csv\")\n",
    "\n",
    "# Characters information\n",
    "info = pd.read_csv(\n",
    "    \"drive/MyDrive/Datasets/heroes_information.csv\",\n",
    "    index_col=0, \n",
    "    na_values=['-', -99.0]\n",
    ")\n",
    "\n",
    "# Merge databases\n",
    "data = info.merge(right=powers, how='inner', left_on='name', right_on='hero_names')\n",
    "data.drop('hero_names', axis=1, inplace=True)\n",
    "\n",
    "# Removed characters without aligment or neutral value\n",
    "data = data[data['Alignment'].isin(['bad', 'good'])]"
   ],
   "execution_count": null,
   "outputs": []
  },
  {
   "cell_type": "markdown",
   "metadata": {
    "id": "DuW_KimFhK1f"
   },
   "source": [
    "## Feature Engineering"
   ]
  },
  {
   "cell_type": "markdown",
   "metadata": {
    "id": "-YxP_UqIhOaL"
   },
   "source": [
    "### Class for variable selection"
   ]
  },
  {
   "cell_type": "code",
   "metadata": {
    "id": "PNuLUntefk2P"
   },
   "source": [
    "class ColumnSelector(BaseEstimator, TransformerMixin):\n",
    "    def __init__(self, columns):\n",
    "        self.columns = columns\n",
    "        \n",
    "    def fit(self, X, y=None):\n",
    "        return self\n",
    "    \n",
    "    def transform(self, X):\n",
    "        return X[self.columns]"
   ],
   "execution_count": null,
   "outputs": []
  },
  {
   "cell_type": "markdown",
   "metadata": {
    "id": "vRrKsRuUhUSZ"
   },
   "source": [
    "### Define columns according to each"
   ]
  },
  {
   "cell_type": "code",
   "metadata": {
    "id": "YpmDKSDlhEEG"
   },
   "source": [
    "# Categorical columns name\n",
    "categorical = list(info.select_dtypes('object').columns)[1:-1]\n",
    "\n",
    "# Numeric columns name\n",
    "numerical = list(info.select_dtypes('number').columns)\n",
    "\n",
    "# Boolean columns name\n",
    "boolean = list(powers.select_dtypes('bool').columns)"
   ],
   "execution_count": null,
   "outputs": []
  },
  {
   "cell_type": "markdown",
   "metadata": {
    "id": "iKOB4m8KhWXn"
   },
   "source": [
    "### Construct feature engineering graph"
   ]
  },
  {
   "cell_type": "code",
   "metadata": {
    "id": "3O6jF1PLf86Q"
   },
   "source": [
    "# Define categorical pipeline\n",
    "cat_pipe = Pipeline(\n",
    "    [('selector', ColumnSelector(categorical)),\n",
    "     ('imputer', SimpleImputer(strategy='constant', fill_value='missing')),\n",
    "     ('encoder', OneHotEncoder(handle_unknown='ignore', sparse=False))])\n",
    "\n",
    "# Define numerical pipeline\n",
    "num_pipe = Pipeline(\n",
    "    [('selector', ColumnSelector(numerical)),\n",
    "     ('imputer', SimpleImputer(strategy='median')),\n",
    "     ('scaler', StandardScaler())])\n",
    "\n",
    "# Define boolean pipeline\n",
    "bool_pipe = Pipeline(\n",
    "    [('selector', ColumnSelector(boolean)),\n",
    "     ('pca', PCA(n_components=0.95))])\n",
    "\n",
    "# Fit column transformer to training data\n",
    "preprocessor = FeatureUnion(\n",
    "    [('categorical', cat_pipe),\n",
    "     ('numerical', num_pipe),\n",
    "     ('boolean', bool_pipe)])"
   ],
   "execution_count": null,
   "outputs": []
  },
  {
   "cell_type": "markdown",
   "metadata": {
    "id": "YkfrqxTuhrRU"
   },
   "source": [
    "### Transform the target\n",
    "\n",
    "Unfornately, Sklearn pipeline doen't have support to add a transformation in the target variable like the ReshapeEndpoint in Tensorflow."
   ]
  },
  {
   "cell_type": "code",
   "metadata": {
    "id": "62k5Kjt_sfwg"
   },
   "source": [
    "# Format the target variable\n",
    "y = data['Alignment']\n",
    "y.replace({'bad': 0, 'good': 1}, inplace=True)"
   ],
   "execution_count": null,
   "outputs": []
  },
  {
   "cell_type": "markdown",
   "metadata": {
    "id": "8N0zCLvjhhzX"
   },
   "source": [
    "## Model"
   ]
  },
  {
   "cell_type": "code",
   "metadata": {
    "id": "pMUH6AhCgAPK"
   },
   "source": [
    "# Combine categorical and numerical pipeline with the model\n",
    "model = Pipeline([\n",
    "    ('preprocessor', preprocessor),\n",
    "    ('model', RandomForestClassifier(min_samples_leaf=2))\n",
    "])"
   ],
   "execution_count": null,
   "outputs": []
  },
  {
   "cell_type": "markdown",
   "metadata": {
    "id": "5ZFCwXGdijSS"
   },
   "source": [
    "### Fit and predict\n",
    "\n",
    "The function cross_val_predict already has stratify the target variable, in other words, the function balance the target variable between the Kfolds."
   ]
  },
  {
   "cell_type": "code",
   "metadata": {
    "id": "ueAfY0ritBkG"
   },
   "source": [
    "model.fit(data, y)\n",
    "y_pred = cross_val_predict(model, data, y, cv=10)"
   ],
   "execution_count": null,
   "outputs": []
  },
  {
   "cell_type": "markdown",
   "metadata": {
    "id": "PJ-jgjhVimFr"
   },
   "source": [
    "## Metrics"
   ]
  },
  {
   "cell_type": "code",
   "metadata": {
    "colab": {
     "base_uri": "https://localhost:8080/",
     "height": 346
    },
    "id": "wuhugsDVYlBS",
    "outputId": "fcdc4743-af85-4043-a090-789dea610632"
   },
   "source": [
    "# Plot confusition matrix with the results\n",
    "title = 'Confusion Matrix RF Classifier'\n",
    "\n",
    "disp = plot_confusion_matrix(\n",
    "    model,\n",
    "    data,\n",
    "    y,\n",
    "    display_labels=['good', 'bad'],\n",
    "    cmap=plt.cm.Blues,\n",
    "    normalize='true'\n",
    ")\n",
    "\n",
    "disp.ax_.set_title(title)\n",
    "\n",
    "print(title)\n",
    "print(disp.confusion_matrix)"
   ],
   "execution_count": null,
   "outputs": [
    {
     "output_type": "stream",
     "text": [
      "Confusion Matrix RF Classifier\n",
      "[[0.96907216 0.03092784]\n",
      " [0.         1.        ]]\n"
     ],
     "name": "stdout"
    },
    {
     "output_type": "display_data",
     "data": {
      "image/png": "[encoded data removed]",
      "text/plain": [
       "<Figure size 432x288 with 2 Axes>"
      ]
     },
     "metadata": {
      "tags": [],
      "needs_background": "light"
     }
    }
   ]
  }
 ]
}