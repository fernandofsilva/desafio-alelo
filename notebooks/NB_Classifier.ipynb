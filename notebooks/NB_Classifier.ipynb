{
 "nbformat": 4,
 "nbformat_minor": 0,
 "metadata": {
  "colab": {
   "name": "NB Classifier.ipynb",
   "provenance": [],
   "collapsed_sections": [],
   "mount_file_id": "1tzQkmYfKq_IYeTizM8gozhYrVeF-hkcz",
   "authorship_tag": "ABX9TyNPXyk7d42+V6QvInr+8v2B",
   "include_colab_link": true
  },
  "kernelspec": {
   "name": "python3",
   "display_name": "Python 3"
  },
  "language_info": {
   "name": "python"
  }
 },
 "cells": [
  {
   "cell_type": "markdown",
   "metadata": {
    "id": "view-in-github",
    "colab_type": "text"
   },
   "source": [
    "<a href=\"https://colab.research.google.com/github/fernandofsilva/desafio-alelo/blob/main/notebooks/NB_Classifier.ipynb\" target=\"_parent\"><img src=\"https://colab.research.google.com/assets/colab-badge.svg\" alt=\"Open In Colab\"/></a>"
   ]
  },
  {
   "cell_type": "markdown",
   "metadata": {
    "id": "-ljjeL1FjqPL"
   },
   "source": [
    "# Naive Bayes Classifier"
   ]
  },
  {
   "cell_type": "markdown",
   "metadata": {
    "id": "YIuZMu8OjvJv"
   },
   "source": [
    "## Setup"
   ]
  },
  {
   "cell_type": "code",
   "metadata": {
    "id": "4j7DpvvyF1pC"
   },
   "source": [
    "# Data handling\n",
    "import pandas as pd\n",
    "\n",
    "# Modules for feature engineering and modelling\n",
    "from sklearn.base import BaseEstimator, TransformerMixin\n",
    "from sklearn.preprocessing import OneHotEncoder, StandardScaler\n",
    "from sklearn.impute import SimpleImputer\n",
    "from sklearn.decomposition import PCA\n",
    "from sklearn.pipeline import Pipeline, FeatureUnion\n",
    "from sklearn.model_selection import cross_val_predict\n",
    "from sklearn.metrics import plot_confusion_matrix\n",
    "from sklearn.naive_bayes import BernoulliNB\n",
    "\n",
    "# Plot\n",
    "import matplotlib.pyplot as plt\n",
    "plt.style.use('ggplot')"
   ],
   "execution_count": null,
   "outputs": []
  },
  {
   "cell_type": "markdown",
   "metadata": {
    "id": "OtasZfkMj4sn"
   },
   "source": [
    "## Load data and merge"
   ]
  },
  {
   "cell_type": "code",
   "metadata": {
    "id": "mzBfFgScJvuP"
   },
   "source": [
    "# Characters powers\n",
    "powers = pd.read_csv(\"drive/MyDrive/Datasets/super_hero_powers.csv\")\n",
    "\n",
    "# Characters information\n",
    "info = pd.read_csv(\n",
    "    \"drive/MyDrive/Datasets/heroes_information.csv\",\n",
    "    index_col=0, \n",
    "    na_values=['-', -99.0]\n",
    ")\n",
    "\n",
    "# Merge databases\n",
    "data = info.merge(right=powers, how='inner', left_on='name', right_on='hero_names')\n",
    "data.drop('hero_names', axis=1, inplace=True)\n",
    "\n",
    "# Removed characters without aligment or neutral value\n",
    "data = data[data['Alignment'].isin(['bad', 'good'])]"
   ],
   "execution_count": null,
   "outputs": []
  },
  {
   "cell_type": "markdown",
   "metadata": {
    "id": "uN8LMNNQkB46"
   },
   "source": [
    "## Feature Engineering"
   ]
  },
  {
   "cell_type": "markdown",
   "metadata": {
    "id": "W31I_whPkCsY"
   },
   "source": [
    "### Class for variable selection"
   ]
  },
  {
   "cell_type": "code",
   "metadata": {
    "id": "DCUSn9Dkj_0t"
   },
   "source": [
    "class ColumnSelector(BaseEstimator, TransformerMixin):\n",
    "    def __init__(self, columns):\n",
    "        self.columns = columns\n",
    "        \n",
    "    def fit(self, X, y=None):\n",
    "        return self\n",
    "    \n",
    "    def transform(self, X):\n",
    "        return X[self.columns]"
   ],
   "execution_count": null,
   "outputs": []
  },
  {
   "cell_type": "markdown",
   "metadata": {
    "id": "Z-FnM2FikJbj"
   },
   "source": [
    "### Define columns according to each"
   ]
  },
  {
   "cell_type": "code",
   "metadata": {
    "id": "MX30RhjskLNq"
   },
   "source": [
    "# Categorical columns name\n",
    "categorical = list(info.select_dtypes('object').columns)[1:-1]\n",
    "\n",
    "# Boolean columns name\n",
    "boolean = list(powers.select_dtypes('bool').columns)"
   ],
   "execution_count": null,
   "outputs": []
  },
  {
   "cell_type": "markdown",
   "metadata": {
    "id": "uOLZG2pTkMq3"
   },
   "source": [
    "### Construct feature engineering graph"
   ]
  },
  {
   "cell_type": "code",
   "metadata": {
    "id": "i6smVD0JkOhq"
   },
   "source": [
    "# Define categorical pipeline\n",
    "cat_pipe = Pipeline(\n",
    "    [('selector', ColumnSelector(categorical)),\n",
    "     ('imputer', SimpleImputer(strategy='constant', fill_value='missing')),\n",
    "     ('encoder', OneHotEncoder(handle_unknown='ignore', sparse=False))])\n",
    "\n",
    "# Define boolean pipeline\n",
    "bool_pipe = Pipeline(\n",
    "    [('selector', ColumnSelector(boolean)),\n",
    "     ('pca', PCA(n_components=0.95))])\n",
    "\n",
    "# Fit column transformer to training data\n",
    "preprocessor = FeatureUnion(\n",
    "    [('categorical', cat_pipe),\n",
    "     ('boolean', bool_pipe)])"
   ],
   "execution_count": null,
   "outputs": []
  },
  {
   "cell_type": "markdown",
   "metadata": {
    "id": "4zi4KvgYkV3q"
   },
   "source": [
    "### Transform the target\n",
    "\n",
    "Unfornately, Sklearn pipeline doen't have support to add a transformation in the target variable like the ReshapeEndpoint in Tensorflow."
   ]
  },
  {
   "cell_type": "code",
   "metadata": {
    "id": "1dfv37HxkXqe"
   },
   "source": [
    "# Format the target variable\n",
    "y = data['Alignment']\n",
    "y.replace({'bad': 0, 'good': 1}, inplace=True)"
   ],
   "execution_count": null,
   "outputs": []
  },
  {
   "cell_type": "markdown",
   "metadata": {
    "id": "M-AgofpekQUU"
   },
   "source": [
    "## Model"
   ]
  },
  {
   "cell_type": "code",
   "metadata": {
    "id": "utJiv_hHkUAV"
   },
   "source": [
    "# Combine categorical and numerical pipeline with the model\n",
    "model = Pipeline([\n",
    "    ('preprocessor', preprocessor),\n",
    "    ('model', BernoulliNB(alpha=1))\n",
    "])"
   ],
   "execution_count": null,
   "outputs": []
  },
  {
   "cell_type": "markdown",
   "metadata": {
    "id": "BinGLxUGkZut"
   },
   "source": [
    "### Fit and predict\n",
    "\n",
    "The function cross_val_predict already has stratify the target variable, in other words, the function balance the target variable between the Kfolds."
   ]
  },
  {
   "cell_type": "code",
   "metadata": {
    "id": "J9kIG1Abkbgv"
   },
   "source": [
    "model.fit(data, y)\n",
    "y_pred = cross_val_predict(model, data, y, cv=10)"
   ],
   "execution_count": null,
   "outputs": []
  },
  {
   "cell_type": "markdown",
   "metadata": {
    "id": "PWrdDZsMkddQ"
   },
   "source": [
    "## Metrics"
   ]
  },
  {
   "cell_type": "code",
   "metadata": {
    "colab": {
     "base_uri": "https://localhost:8080/",
     "height": 346
    },
    "id": "m2wirTNwkg0N",
    "outputId": "b3c0ea43-724b-439e-cd5b-f4d6cb56a706"
   },
   "source": [
    "# Plot confusition matrix with the results\n",
    "title = 'Confusion Matrix NB Classifier'\n",
    "\n",
    "disp = plot_confusion_matrix(\n",
    "    model,\n",
    "    data,\n",
    "    y,\n",
    "    display_labels=['good', 'bad'],\n",
    "    cmap=plt.cm.Blues,\n",
    "    normalize='true'\n",
    ")\n",
    "\n",
    "disp.ax_.set_title(title)\n",
    "\n",
    "print(title)\n",
    "print(disp.confusion_matrix)"
   ],
   "execution_count": null,
   "outputs": [
    {
     "output_type": "stream",
     "text": [
      "Confusion Matrix NB Classifier\n",
      "[[0.54123711 0.45876289]\n",
      " [0.12183908 0.87816092]]\n"
     ],
     "name": "stdout"
    },
    {
     "output_type": "display_data",
     "data": {
      "image/png": "[encoded data removed]",
      "text/plain": [
       "<Figure size 432x288 with 2 Axes>"
      ]
     },
     "metadata": {
      "tags": [],
      "needs_background": "light"
     }
    }
   ]
  }
 ]
}